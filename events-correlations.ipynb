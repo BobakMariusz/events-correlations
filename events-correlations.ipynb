{
 "cells": [
  {
   "cell_type": "markdown",
   "id": "eb24b6dc",
   "metadata": {},
   "source": [
    "# Korelacja zdarzeń oraz badanie sentymentu"
   ]
  },
  {
   "cell_type": "code",
   "execution_count": null,
   "id": "98a4d8af",
   "metadata": {},
   "outputs": [],
   "source": [
    "%pip install transformers\n",
    "%pip install sacremoses\n",
    "%pip install torch"
   ]
  },
  {
   "cell_type": "markdown",
   "id": "9f4aafc4",
   "metadata": {},
   "source": [
    "## Analiza sentymentu"
   ]
  },
  {
   "cell_type": "code",
   "execution_count": null,
   "id": "75df6436",
   "metadata": {},
   "outputs": [],
   "source": [
    "from transformers import pipeline\n",
    "import torch\n",
    "\n",
    "pipe = pipeline(\"text-classification\", model=\"tabularisai/multilingual-sentiment-analysis\")\n",
    "\n",
    "\n",
    "# Load model directly\n",
    "from transformers import AutoTokenizer, AutoModelForSequenceClassification\n",
    "\n",
    "tokenizer = AutoTokenizer.from_pretrained(\"tabularisai/multilingual-sentiment-analysis\")\n",
    "model = AutoModelForSequenceClassification.from_pretrained(\"tabularisai/multilingual-sentiment-analysis\")\n",
    "\n",
    "def predict_sentiment(texts):\n",
    "    inputs = tokenizer(texts, return_tensors=\"pt\", truncation=True, padding=True, max_length=512)\n",
    "    with torch.no_grad():\n",
    "        outputs = model(**inputs)\n",
    "    probabilities = torch.nn.functional.softmax(outputs.logits, dim=-1)\n",
    "    sentiment_map = {0: \"Very Negative\", 1: \"Negative\", 2: \"Neutral\", 3: \"Positive\", 4: \"Very Positive\"}\n",
    "    return [sentiment_map[p] for p in torch.argmax(probabilities, dim=-1).tolist()]\n",
    "\n",
    "\n",
    "# Zdania do analizy\n",
    "texts = [\n",
    "        \"Uwielbiam tę restaurację, jedzenie jest świetne!\", \n",
    "        \"Obsługa klienta była rozczarowująca.\", \n",
    "        \"Pogoda jest w porządku, nic szczególnego.\",\n",
    "        \"The power outage was a real shockingly good surprise\"\n",
    "]\n",
    "\n",
    "for text, sentiment in zip(texts, predict_sentiment(texts)):\n",
    "    print(f\"Text: {text}\\nSentiment: {sentiment}\\n\")"
   ]
  }
 ],
 "metadata": {
  "kernelspec": {
   "display_name": "usr",
   "language": "python",
   "name": "python3"
  },
  "language_info": {
   "codemirror_mode": {
    "name": "ipython",
    "version": 3
   },
   "file_extension": ".py",
   "mimetype": "text/x-python",
   "name": "python",
   "nbconvert_exporter": "python",
   "pygments_lexer": "ipython3",
   "version": "3.12.9"
  }
 },
 "nbformat": 4,
 "nbformat_minor": 5
}
